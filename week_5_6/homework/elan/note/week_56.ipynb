{
 "cells": [
  {
   "metadata": {},
   "cell_type": "markdown",
   "source": [
    "## 단위테스트\n",
    "\n",
    "- junit 과 assertion 에 대해서 알아보기\n",
    "\n",
    "### Junit5 주요 애노테이션\n",
    "\n",
    "- `@Test`: 메스트 메소드 표시\n",
    "- `@BeforeEach`: 매 테스트 메소드 수행전에 실행\n",
    "- `@AfterEach`: 매 테스트 메소드 종료후에 실행\n",
    "- `@BeforeAll`: 모든 테스트 시작전에 한번만 실행 (static)\n",
    "- `@AfterAll`: 모든 테스트 종료후 한번만 실행 (static)\n",
    "\n",
    "### AssertJ 장점\n",
    "\n",
    "- 더 읽기 쉬운 메소드 체이닝\n",
    "- 많은 확장 함수\n",
    "- 명확한 오류 메시지\n"
   ]
  },
  {
   "metadata": {},
   "cell_type": "markdown",
   "source": [
    "## API 테스트\n",
    "\n",
    "컨트롤러를 테스트\n",
    "\n",
    "- `perform()`: 요청 수행\n",
    "- `andExpect()`: 결과 검증\n",
    "- `andDo()`: 부가작업(출력..)\n",
    "- `andReturn()`: 테스트 결과 반환"
   ]
  },
  {
   "metadata": {},
   "cell_type": "markdown",
   "source": [
    "## MockK\n",
    "> 코틀린에 특화된 모킹 라이브러리\n",
    "\n",
    "주요 기능\n",
    "- 수동으로 mock 생성이 가능하지만 애노테이션이 명확해보임\n",
    "    - `@MockK`: 모킹\n",
    "    - `@InjectMockKs`: 모킹된 객체 주입\n",
    "\n",
    "주요 함수\n",
    "- `every { ... } returns ...`: 목의 내용 동작 정의\n",
    "- `every { ... } throws ...`: 목의 예외 동작 정의\n",
    "- `verify { ... }`: 목 객체가 호출되었는지 검증\n",
    "- `confirmVerified(...)`: 모든 상호동작이 검증되었는지 확인.\n",
    "\n"
   ]
  }
 ],
 "metadata": {
  "kernelspec": {
   "display_name": "Kotlin",
   "language": "kotlin",
   "name": "kotlin"
  },
  "language_info": {
   "name": "kotlin",
   "version": "1.9.23",
   "mimetype": "text/x-kotlin",
   "file_extension": ".kt",
   "pygments_lexer": "kotlin",
   "codemirror_mode": "text/x-kotlin",
   "nbconvert_exporter": ""
  }
 },
 "nbformat": 4,
 "nbformat_minor": 0
}
